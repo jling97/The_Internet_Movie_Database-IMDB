{
 "cells": [
  {
   "cell_type": "code",
   "execution_count": 1,
   "metadata": {
    "colab": {
     "base_uri": "https://localhost:8080/",
     "height": 34
    },
    "colab_type": "code",
    "executionInfo": {
     "elapsed": 2549,
     "status": "ok",
     "timestamp": 1599752354265,
     "user": {
      "displayName": "Jia-Ling Chang",
      "photoUrl": "",
      "userId": "16568341028415145981"
     },
     "user_tz": -480
    },
    "id": "zNP4XyKljWZJ",
    "outputId": "0f7bf80d-6e1a-4ae9-8381-b2240a7cad62"
   },
   "outputs": [
    {
     "name": "stdout",
     "output_type": "stream",
     "text": [
      "env: KERAS_BACKEND=tensorflow\n"
     ]
    }
   ],
   "source": [
    "%env KERAS_BACKEND=tensorflow"
   ]
  },
  {
   "cell_type": "code",
   "execution_count": 2,
   "metadata": {
    "colab": {},
    "colab_type": "code",
    "executionInfo": {
     "elapsed": 2031,
     "status": "ok",
     "timestamp": 1599752357775,
     "user": {
      "displayName": "Jia-Ling Chang",
      "photoUrl": "",
      "userId": "16568341028415145981"
     },
     "user_tz": -480
    },
    "id": "udeWARzajdOL"
   },
   "outputs": [],
   "source": [
    "%matplotlib inline\n",
    "import numpy as np\n",
    "import matplotlib.pyplot as plt"
   ]
  },
  {
   "cell_type": "code",
   "execution_count": null,
   "metadata": {
    "colab": {
     "base_uri": "https://localhost:8080/",
     "height": 50
    },
    "colab_type": "code",
    "executionInfo": {
     "elapsed": 6438,
     "status": "ok",
     "timestamp": 1599750725851,
     "user": {
      "displayName": "Jia-Ling Chang",
      "photoUrl": "",
      "userId": "16568341028415145981"
     },
     "user_tz": -480
    },
    "id": "IPoe6U95jheF",
    "outputId": "42e3bb44-1856-422c-d5e2-f4d0f35168f1"
   },
   "outputs": [
    {
     "name": "stdout",
     "output_type": "stream",
     "text": [
      "Downloading data from https://storage.googleapis.com/tensorflow/tf-keras-datasets/imdb.npz\n",
      "17465344/17464789 [==============================] - 0s 0us/step\n"
     ]
    }
   ],
   "source": [
    "#讀入IMDB電影數據庫\n",
    "from keras.datasets import imdb\n",
    "(x_train,y_train),(x_test,y_test)=imdb.load_data(num_words=10000)"
   ]
  },
  {
   "cell_type": "code",
   "execution_count": null,
   "metadata": {
    "colab": {
     "base_uri": "https://localhost:8080/",
     "height": 34
    },
    "colab_type": "code",
    "executionInfo": {
     "elapsed": 1292,
     "status": "ok",
     "timestamp": 1599750730597,
     "user": {
      "displayName": "Jia-Ling Chang",
      "photoUrl": "",
      "userId": "16568341028415145981"
     },
     "user_tz": -480
    },
    "id": "aBXzDUMyjlvy",
    "outputId": "2f6b1efa-8128-4eec-ba31-27d9d2df8eb1"
   },
   "outputs": [
    {
     "name": "stdout",
     "output_type": "stream",
     "text": [
      "218,189,141,550,147,43,123,562,233,130,"
     ]
    }
   ],
   "source": [
    "#檢視前十筆影評資料長度\n",
    "for i in range(10):\n",
    "    print(len(x_train[i]),end=',')"
   ]
  },
  {
   "cell_type": "code",
   "execution_count": null,
   "metadata": {
    "colab": {
     "base_uri": "https://localhost:8080/",
     "height": 34
    },
    "colab_type": "code",
    "executionInfo": {
     "elapsed": 1017,
     "status": "ok",
     "timestamp": 1599750732189,
     "user": {
      "displayName": "Jia-Ling Chang",
      "photoUrl": "",
      "userId": "16568341028415145981"
     },
     "user_tz": -480
    },
    "id": "av9GBWb7jqYP",
    "outputId": "2f85c660-0a5c-4bed-df41-6a631a53a1e7"
   },
   "outputs": [
    {
     "data": {
      "text/plain": [
       "array([1, 0, 0, 1, 0, 0, 1, 0, 1, 0])"
      ]
     },
     "execution_count": 8,
     "metadata": {
      "tags": []
     },
     "output_type": "execute_result"
    }
   ],
   "source": [
    "#檢視前十筆影評輸出資料，0代表負評，1代表正評\n",
    "y_train[:10]"
   ]
  },
  {
   "cell_type": "code",
   "execution_count": null,
   "metadata": {
    "colab": {},
    "colab_type": "code",
    "id": "MTzmOAGTjvRM"
   },
   "outputs": [],
   "source": [
    "#用sequence做資料串列處理\n",
    "from keras.preprocessing import sequence\n",
    "#設定輸入資料長度上限\n",
    "x_train=sequence.pad_sequences(x_train,maxlen=100)\n",
    "x_test=sequence.pad_sequences(x_test,maxlen=100)"
   ]
  },
  {
   "cell_type": "code",
   "execution_count": null,
   "metadata": {
    "colab": {
     "base_uri": "https://localhost:8080/",
     "height": 34
    },
    "colab_type": "code",
    "executionInfo": {
     "elapsed": 1282,
     "status": "ok",
     "timestamp": 1599750739230,
     "user": {
      "displayName": "Jia-Ling Chang",
      "photoUrl": "",
      "userId": "16568341028415145981"
     },
     "user_tz": -480
    },
    "id": "QFoDnEncjwt_",
    "outputId": "9f13ae43-4a50-4c2a-be96-40747ed58a2f"
   },
   "outputs": [
    {
     "data": {
      "text/plain": [
       "(25000, 100)"
      ]
     },
     "execution_count": 12,
     "metadata": {
      "tags": []
     },
     "output_type": "execute_result"
    }
   ],
   "source": [
    "x_train.shape"
   ]
  },
  {
   "cell_type": "code",
   "execution_count": null,
   "metadata": {
    "colab": {},
    "colab_type": "code",
    "id": "hcN8hfaTj4-K"
   },
   "outputs": [],
   "source": [
    "#讀入相關套件\n",
    "from keras.models import Sequential\n",
    "from keras.layers import Dense,Embedding\n",
    "from keras.layers import LSTM"
   ]
  },
  {
   "cell_type": "code",
   "execution_count": null,
   "metadata": {
    "colab": {},
    "colab_type": "code",
    "id": "zWGcUSs-j_lu"
   },
   "outputs": [],
   "source": [
    "#建構神經網路\n",
    "model=Sequential()\n",
    "\n",
    "model.add(Embedding(10000,128))#將原本的10000維的向量，處理變成128維\n",
    "\n",
    "model.add(LSTM(150))\n",
    "\n",
    "model.add(Dense(1,activation='sigmoid'))"
   ]
  },
  {
   "cell_type": "code",
   "execution_count": null,
   "metadata": {
    "colab": {
     "base_uri": "https://localhost:8080/",
     "height": 252
    },
    "colab_type": "code",
    "executionInfo": {
     "elapsed": 781,
     "status": "ok",
     "timestamp": 1599750761963,
     "user": {
      "displayName": "Jia-Ling Chang",
      "photoUrl": "",
      "userId": "16568341028415145981"
     },
     "user_tz": -480
    },
    "id": "IXuxFm5MkBBu",
    "outputId": "0982b18c-11b6-4e42-a2b5-0d11309b0aba"
   },
   "outputs": [
    {
     "name": "stdout",
     "output_type": "stream",
     "text": [
      "Model: \"sequential\"\n",
      "_________________________________________________________________\n",
      "Layer (type)                 Output Shape              Param #   \n",
      "=================================================================\n",
      "embedding (Embedding)        (None, None, 128)         1280000   \n",
      "_________________________________________________________________\n",
      "lstm (LSTM)                  (None, 150)               167400    \n",
      "_________________________________________________________________\n",
      "dense (Dense)                (None, 1)                 151       \n",
      "=================================================================\n",
      "Total params: 1,447,551\n",
      "Trainable params: 1,447,551\n",
      "Non-trainable params: 0\n",
      "_________________________________________________________________\n"
     ]
    }
   ],
   "source": [
    "#檢視神經網路\n",
    "model.summary()"
   ]
  },
  {
   "cell_type": "code",
   "execution_count": null,
   "metadata": {
    "colab": {},
    "colab_type": "code",
    "id": "8WZT2KRRkCY6"
   },
   "outputs": [],
   "source": [
    "model.compile(loss='binary_crossentropy',\n",
    "             optimizer='adam',\n",
    "             metrics=['accuracy'])"
   ]
  },
  {
   "cell_type": "code",
   "execution_count": null,
   "metadata": {
    "colab": {
     "base_uri": "https://localhost:8080/",
     "height": 538
    },
    "colab_type": "code",
    "executionInfo": {
     "elapsed": 270642,
     "status": "ok",
     "timestamp": 1599751035243,
     "user": {
      "displayName": "Jia-Ling Chang",
      "photoUrl": "",
      "userId": "16568341028415145981"
     },
     "user_tz": -480
    },
    "id": "OWT9WBiAkFP3",
    "outputId": "af78f031-086e-4a3e-d8ef-402c47fcc4ea"
   },
   "outputs": [
    {
     "name": "stdout",
     "output_type": "stream",
     "text": [
      "Epoch 1/15\n",
      "782/782 [==============================] - 17s 22ms/step - loss: 0.4227 - accuracy: 0.8052\n",
      "Epoch 2/15\n",
      "782/782 [==============================] - 17s 22ms/step - loss: 0.2635 - accuracy: 0.8943\n",
      "Epoch 3/15\n",
      "782/782 [==============================] - 17s 22ms/step - loss: 0.1839 - accuracy: 0.9298\n",
      "Epoch 4/15\n",
      "782/782 [==============================] - 17s 21ms/step - loss: 0.1341 - accuracy: 0.9504\n",
      "Epoch 5/15\n",
      "782/782 [==============================] - 17s 22ms/step - loss: 0.0969 - accuracy: 0.9669\n",
      "Epoch 6/15\n",
      "782/782 [==============================] - 18s 23ms/step - loss: 0.0626 - accuracy: 0.9792\n",
      "Epoch 7/15\n",
      "782/782 [==============================] - 18s 23ms/step - loss: 0.0490 - accuracy: 0.9833\n",
      "Epoch 8/15\n",
      "782/782 [==============================] - 18s 23ms/step - loss: 0.0434 - accuracy: 0.9868\n",
      "Epoch 9/15\n",
      "782/782 [==============================] - 18s 22ms/step - loss: 0.0282 - accuracy: 0.9919\n",
      "Epoch 10/15\n",
      "782/782 [==============================] - 17s 22ms/step - loss: 0.0282 - accuracy: 0.9914\n",
      "Epoch 11/15\n",
      "782/782 [==============================] - 17s 22ms/step - loss: 0.0393 - accuracy: 0.9868\n",
      "Epoch 12/15\n",
      "782/782 [==============================] - 17s 22ms/step - loss: 0.0124 - accuracy: 0.9966\n",
      "Epoch 13/15\n",
      "782/782 [==============================] - 18s 22ms/step - loss: 0.0057 - accuracy: 0.9984\n",
      "Epoch 14/15\n",
      "782/782 [==============================] - 17s 22ms/step - loss: 0.0243 - accuracy: 0.9914\n",
      "Epoch 15/15\n",
      "782/782 [==============================] - 18s 23ms/step - loss: 0.0153 - accuracy: 0.9953\n"
     ]
    },
    {
     "data": {
      "text/plain": [
       "<tensorflow.python.keras.callbacks.History at 0x7f95779a07f0>"
      ]
     },
     "execution_count": 22,
     "metadata": {
      "tags": []
     },
     "output_type": "execute_result"
    }
   ],
   "source": [
    "#訓練神經網路\n",
    "model.fit(x_train,y_train,batch_size=32,epochs=15)"
   ]
  },
  {
   "cell_type": "code",
   "execution_count": null,
   "metadata": {
    "colab": {
     "base_uri": "https://localhost:8080/",
     "height": 50
    },
    "colab_type": "code",
    "executionInfo": {
     "elapsed": 1004,
     "status": "ok",
     "timestamp": 1599751273951,
     "user": {
      "displayName": "Jia-Ling Chang",
      "photoUrl": "",
      "userId": "16568341028415145981"
     },
     "user_tz": -480
    },
    "id": "EtZXSAz3mWkZ",
    "outputId": "253e7fba-1d0f-4d9b-d360-7c5f3a9afc21"
   },
   "outputs": [
    {
     "name": "stdout",
     "output_type": "stream",
     "text": [
      "測試資料的loss 1.010803461074829\n",
      "測試資料的正確率 0.8313999772071838\n"
     ]
    }
   ],
   "source": [
    "#顯示測試資料損失分數與準確率\n",
    "score=model.evaluate(x_test,y_test)\n",
    "\n",
    "print('測試資料的loss',score[0])\n",
    "print('測試資料的正確率',score[1])"
   ]
  },
  {
   "cell_type": "code",
   "execution_count": null,
   "metadata": {
    "colab": {},
    "colab_type": "code",
    "id": "l8P2hQCVnMUa"
   },
   "outputs": [],
   "source": [
    "#儲存結果\n",
    "model_json=model.to_json()\n",
    "open('imdb_model_architecture.json','w').write(model_json)\n",
    "\n",
    "model.save_weights('imdb_model_weights.h5')"
   ]
  },
  {
   "cell_type": "code",
   "execution_count": null,
   "metadata": {
    "colab": {},
    "colab_type": "code",
    "id": "Jg7meKkGrBU3"
   },
   "outputs": [],
   "source": []
  }
 ],
 "metadata": {
  "accelerator": "GPU",
  "colab": {
   "authorship_tag": "ABX9TyOmROhlErmKLZbDqAASY1Qf",
   "collapsed_sections": [],
   "name": "RNN_IMDB.ipynb",
   "provenance": []
  },
  "kernelspec": {
   "display_name": "Python 3",
   "language": "python",
   "name": "python3"
  },
  "language_info": {
   "codemirror_mode": {
    "name": "ipython",
    "version": 3
   },
   "file_extension": ".py",
   "mimetype": "text/x-python",
   "name": "python",
   "nbconvert_exporter": "python",
   "pygments_lexer": "ipython3",
   "version": "3.7.3"
  }
 },
 "nbformat": 4,
 "nbformat_minor": 1
}
